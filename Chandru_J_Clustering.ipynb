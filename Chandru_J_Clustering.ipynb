{
  "nbformat": 4,
  "nbformat_minor": 0,
  "metadata": {
    "colab": {
      "provenance": []
    },
    "kernelspec": {
      "name": "python3",
      "display_name": "Python 3"
    },
    "language_info": {
      "name": "python"
    }
  },
  "cells": [
    {
      "cell_type": "markdown",
      "source": [
        "## Import Necessary Libraries"
      ],
      "metadata": {
        "id": "DAkFHNuqJpn0"
      }
    },
    {
      "cell_type": "code",
      "execution_count": 40,
      "metadata": {
        "id": "GRyv6FzDAyJ2"
      },
      "outputs": [],
      "source": [
        "import pandas as pd\n",
        "from sklearn.cluster import KMeans\n",
        "from sklearn.preprocessing import StandardScaler\n",
        "from sklearn.metrics import davies_bouldin_score, silhouette_score\n",
        "import matplotlib.pyplot as plt\n",
        "import seaborn as sns\n",
        "from pandas.plotting import parallel_coordinates\n"
      ]
    },
    {
      "cell_type": "markdown",
      "source": [
        "## Importing the DataSet"
      ],
      "metadata": {
        "id": "EkqFQnuTJvLI"
      }
    },
    {
      "cell_type": "code",
      "source": [
        "customers = pd.read_csv('/content/Customers.csv')\n",
        "transactions = pd.read_csv('/content/Products.csv')\n",
        "products = pd.read_csv('/content/Transactions.csv')\n"
      ],
      "metadata": {
        "id": "2oojgmekBe_W"
      },
      "execution_count": 10,
      "outputs": []
    },
    {
      "cell_type": "code",
      "source": [
        "customers.head(), transactions.head(), products.head()"
      ],
      "metadata": {
        "colab": {
          "base_uri": "https://localhost:8080/"
        },
        "id": "0dsJlO3DB5rs",
        "outputId": "1a824d52-5576-4bae-c089-9b0c46e0d20a"
      },
      "execution_count": 11,
      "outputs": [
        {
          "output_type": "execute_result",
          "data": {
            "text/plain": [
              "(  CustomerID        CustomerName         Region  SignupDate\n",
              " 0      C0001    Lawrence Carroll  South America  2022-07-10\n",
              " 1      C0002      Elizabeth Lutz           Asia  2022-02-13\n",
              " 2      C0003      Michael Rivera  South America  2024-03-07\n",
              " 3      C0004  Kathleen Rodriguez  South America  2022-10-09\n",
              " 4      C0005         Laura Weber           Asia  2022-08-15,\n",
              "   ProductID              ProductName     Category   Price\n",
              " 0      P001     ActiveWear Biography        Books  169.30\n",
              " 1      P002    ActiveWear Smartwatch  Electronics  346.30\n",
              " 2      P003  ComfortLiving Biography        Books   44.12\n",
              " 3      P004            BookWorld Rug   Home Decor   95.69\n",
              " 4      P005          TechPro T-Shirt     Clothing  429.31,\n",
              "   TransactionID CustomerID ProductID      TransactionDate  Quantity  \\\n",
              " 0        T00001      C0199      P067  2024-08-25 12:38:23         1   \n",
              " 1        T00112      C0146      P067  2024-05-27 22:23:54         1   \n",
              " 2        T00166      C0127      P067  2024-04-25 07:38:55         1   \n",
              " 3        T00272      C0087      P067  2024-03-26 22:55:37         2   \n",
              " 4        T00363      C0070      P067  2024-03-21 15:10:10         3   \n",
              " \n",
              "    TotalValue   Price  \n",
              " 0      300.68  300.68  \n",
              " 1      300.68  300.68  \n",
              " 2      300.68  300.68  \n",
              " 3      601.36  300.68  \n",
              " 4      902.04  300.68  )"
            ]
          },
          "metadata": {},
          "execution_count": 11
        }
      ]
    },
    {
      "cell_type": "markdown",
      "source": [
        "## Merge DataSet"
      ],
      "metadata": {
        "id": "ibg5Er6uJ1j3"
      }
    },
    {
      "cell_type": "code",
      "source": [
        "data = pd.merge(customers, products, on='CustomerID')\n",
        "customer_transactions = pd.merge(data, transactions, on='ProductID')\n"
      ],
      "metadata": {
        "id": "jry3b7ZrCJv1"
      },
      "execution_count": 17,
      "outputs": []
    },
    {
      "cell_type": "code",
      "source": [
        "customer_transactions.head()"
      ],
      "metadata": {
        "colab": {
          "base_uri": "https://localhost:8080/",
          "height": 313
        },
        "id": "bth0UbM8DTY4",
        "outputId": "16de1eac-213a-4f63-cc02-6d179f717368"
      },
      "execution_count": 18,
      "outputs": [
        {
          "output_type": "execute_result",
          "data": {
            "text/plain": [
              "  CustomerID      CustomerName         Region  SignupDate TransactionID  \\\n",
              "0      C0001  Lawrence Carroll  South America  2022-07-10        T00015   \n",
              "1      C0001  Lawrence Carroll  South America  2022-07-10        T00932   \n",
              "2      C0001  Lawrence Carroll  South America  2022-07-10        T00085   \n",
              "3      C0001  Lawrence Carroll  South America  2022-07-10        T00445   \n",
              "4      C0001  Lawrence Carroll  South America  2022-07-10        T00436   \n",
              "\n",
              "  ProductID      TransactionDate  Quantity  TotalValue  Price_x  \\\n",
              "0      P054  2024-01-19 03:12:55         2      114.60    57.30   \n",
              "1      P022  2024-09-17 09:01:18         3      412.62   137.54   \n",
              "2      P096  2024-04-08 00:01:00         2      614.94   307.47   \n",
              "3      P083  2024-05-07 03:11:44         2      911.44   455.72   \n",
              "4      P029  2024-11-02 17:04:16         3     1300.92   433.64   \n",
              "\n",
              "             ProductName     Category  Price_y  \n",
              "0     SoundWave Cookbook        Books    57.30  \n",
              "1     HomeSense Wall Art   Home Decor   137.54  \n",
              "2   SoundWave Headphones  Electronics   307.47  \n",
              "3  ActiveWear Smartwatch  Electronics   455.72  \n",
              "4     TechPro Headphones  Electronics   433.64  "
            ],
            "text/html": [
              "\n",
              "  <div id=\"df-1c942ef2-daa6-480d-b130-d9371e1fcfd5\" class=\"colab-df-container\">\n",
              "    <div>\n",
              "<style scoped>\n",
              "    .dataframe tbody tr th:only-of-type {\n",
              "        vertical-align: middle;\n",
              "    }\n",
              "\n",
              "    .dataframe tbody tr th {\n",
              "        vertical-align: top;\n",
              "    }\n",
              "\n",
              "    .dataframe thead th {\n",
              "        text-align: right;\n",
              "    }\n",
              "</style>\n",
              "<table border=\"1\" class=\"dataframe\">\n",
              "  <thead>\n",
              "    <tr style=\"text-align: right;\">\n",
              "      <th></th>\n",
              "      <th>CustomerID</th>\n",
              "      <th>CustomerName</th>\n",
              "      <th>Region</th>\n",
              "      <th>SignupDate</th>\n",
              "      <th>TransactionID</th>\n",
              "      <th>ProductID</th>\n",
              "      <th>TransactionDate</th>\n",
              "      <th>Quantity</th>\n",
              "      <th>TotalValue</th>\n",
              "      <th>Price_x</th>\n",
              "      <th>ProductName</th>\n",
              "      <th>Category</th>\n",
              "      <th>Price_y</th>\n",
              "    </tr>\n",
              "  </thead>\n",
              "  <tbody>\n",
              "    <tr>\n",
              "      <th>0</th>\n",
              "      <td>C0001</td>\n",
              "      <td>Lawrence Carroll</td>\n",
              "      <td>South America</td>\n",
              "      <td>2022-07-10</td>\n",
              "      <td>T00015</td>\n",
              "      <td>P054</td>\n",
              "      <td>2024-01-19 03:12:55</td>\n",
              "      <td>2</td>\n",
              "      <td>114.60</td>\n",
              "      <td>57.30</td>\n",
              "      <td>SoundWave Cookbook</td>\n",
              "      <td>Books</td>\n",
              "      <td>57.30</td>\n",
              "    </tr>\n",
              "    <tr>\n",
              "      <th>1</th>\n",
              "      <td>C0001</td>\n",
              "      <td>Lawrence Carroll</td>\n",
              "      <td>South America</td>\n",
              "      <td>2022-07-10</td>\n",
              "      <td>T00932</td>\n",
              "      <td>P022</td>\n",
              "      <td>2024-09-17 09:01:18</td>\n",
              "      <td>3</td>\n",
              "      <td>412.62</td>\n",
              "      <td>137.54</td>\n",
              "      <td>HomeSense Wall Art</td>\n",
              "      <td>Home Decor</td>\n",
              "      <td>137.54</td>\n",
              "    </tr>\n",
              "    <tr>\n",
              "      <th>2</th>\n",
              "      <td>C0001</td>\n",
              "      <td>Lawrence Carroll</td>\n",
              "      <td>South America</td>\n",
              "      <td>2022-07-10</td>\n",
              "      <td>T00085</td>\n",
              "      <td>P096</td>\n",
              "      <td>2024-04-08 00:01:00</td>\n",
              "      <td>2</td>\n",
              "      <td>614.94</td>\n",
              "      <td>307.47</td>\n",
              "      <td>SoundWave Headphones</td>\n",
              "      <td>Electronics</td>\n",
              "      <td>307.47</td>\n",
              "    </tr>\n",
              "    <tr>\n",
              "      <th>3</th>\n",
              "      <td>C0001</td>\n",
              "      <td>Lawrence Carroll</td>\n",
              "      <td>South America</td>\n",
              "      <td>2022-07-10</td>\n",
              "      <td>T00445</td>\n",
              "      <td>P083</td>\n",
              "      <td>2024-05-07 03:11:44</td>\n",
              "      <td>2</td>\n",
              "      <td>911.44</td>\n",
              "      <td>455.72</td>\n",
              "      <td>ActiveWear Smartwatch</td>\n",
              "      <td>Electronics</td>\n",
              "      <td>455.72</td>\n",
              "    </tr>\n",
              "    <tr>\n",
              "      <th>4</th>\n",
              "      <td>C0001</td>\n",
              "      <td>Lawrence Carroll</td>\n",
              "      <td>South America</td>\n",
              "      <td>2022-07-10</td>\n",
              "      <td>T00436</td>\n",
              "      <td>P029</td>\n",
              "      <td>2024-11-02 17:04:16</td>\n",
              "      <td>3</td>\n",
              "      <td>1300.92</td>\n",
              "      <td>433.64</td>\n",
              "      <td>TechPro Headphones</td>\n",
              "      <td>Electronics</td>\n",
              "      <td>433.64</td>\n",
              "    </tr>\n",
              "  </tbody>\n",
              "</table>\n",
              "</div>\n",
              "    <div class=\"colab-df-buttons\">\n",
              "\n",
              "  <div class=\"colab-df-container\">\n",
              "    <button class=\"colab-df-convert\" onclick=\"convertToInteractive('df-1c942ef2-daa6-480d-b130-d9371e1fcfd5')\"\n",
              "            title=\"Convert this dataframe to an interactive table.\"\n",
              "            style=\"display:none;\">\n",
              "\n",
              "  <svg xmlns=\"http://www.w3.org/2000/svg\" height=\"24px\" viewBox=\"0 -960 960 960\">\n",
              "    <path d=\"M120-120v-720h720v720H120Zm60-500h600v-160H180v160Zm220 220h160v-160H400v160Zm0 220h160v-160H400v160ZM180-400h160v-160H180v160Zm440 0h160v-160H620v160ZM180-180h160v-160H180v160Zm440 0h160v-160H620v160Z\"/>\n",
              "  </svg>\n",
              "    </button>\n",
              "\n",
              "  <style>\n",
              "    .colab-df-container {\n",
              "      display:flex;\n",
              "      gap: 12px;\n",
              "    }\n",
              "\n",
              "    .colab-df-convert {\n",
              "      background-color: #E8F0FE;\n",
              "      border: none;\n",
              "      border-radius: 50%;\n",
              "      cursor: pointer;\n",
              "      display: none;\n",
              "      fill: #1967D2;\n",
              "      height: 32px;\n",
              "      padding: 0 0 0 0;\n",
              "      width: 32px;\n",
              "    }\n",
              "\n",
              "    .colab-df-convert:hover {\n",
              "      background-color: #E2EBFA;\n",
              "      box-shadow: 0px 1px 2px rgba(60, 64, 67, 0.3), 0px 1px 3px 1px rgba(60, 64, 67, 0.15);\n",
              "      fill: #174EA6;\n",
              "    }\n",
              "\n",
              "    .colab-df-buttons div {\n",
              "      margin-bottom: 4px;\n",
              "    }\n",
              "\n",
              "    [theme=dark] .colab-df-convert {\n",
              "      background-color: #3B4455;\n",
              "      fill: #D2E3FC;\n",
              "    }\n",
              "\n",
              "    [theme=dark] .colab-df-convert:hover {\n",
              "      background-color: #434B5C;\n",
              "      box-shadow: 0px 1px 3px 1px rgba(0, 0, 0, 0.15);\n",
              "      filter: drop-shadow(0px 1px 2px rgba(0, 0, 0, 0.3));\n",
              "      fill: #FFFFFF;\n",
              "    }\n",
              "  </style>\n",
              "\n",
              "    <script>\n",
              "      const buttonEl =\n",
              "        document.querySelector('#df-1c942ef2-daa6-480d-b130-d9371e1fcfd5 button.colab-df-convert');\n",
              "      buttonEl.style.display =\n",
              "        google.colab.kernel.accessAllowed ? 'block' : 'none';\n",
              "\n",
              "      async function convertToInteractive(key) {\n",
              "        const element = document.querySelector('#df-1c942ef2-daa6-480d-b130-d9371e1fcfd5');\n",
              "        const dataTable =\n",
              "          await google.colab.kernel.invokeFunction('convertToInteractive',\n",
              "                                                    [key], {});\n",
              "        if (!dataTable) return;\n",
              "\n",
              "        const docLinkHtml = 'Like what you see? Visit the ' +\n",
              "          '<a target=\"_blank\" href=https://colab.research.google.com/notebooks/data_table.ipynb>data table notebook</a>'\n",
              "          + ' to learn more about interactive tables.';\n",
              "        element.innerHTML = '';\n",
              "        dataTable['output_type'] = 'display_data';\n",
              "        await google.colab.output.renderOutput(dataTable, element);\n",
              "        const docLink = document.createElement('div');\n",
              "        docLink.innerHTML = docLinkHtml;\n",
              "        element.appendChild(docLink);\n",
              "      }\n",
              "    </script>\n",
              "  </div>\n",
              "\n",
              "\n",
              "<div id=\"df-7b82ef47-bb48-42d4-bb1a-146acb264a18\">\n",
              "  <button class=\"colab-df-quickchart\" onclick=\"quickchart('df-7b82ef47-bb48-42d4-bb1a-146acb264a18')\"\n",
              "            title=\"Suggest charts\"\n",
              "            style=\"display:none;\">\n",
              "\n",
              "<svg xmlns=\"http://www.w3.org/2000/svg\" height=\"24px\"viewBox=\"0 0 24 24\"\n",
              "     width=\"24px\">\n",
              "    <g>\n",
              "        <path d=\"M19 3H5c-1.1 0-2 .9-2 2v14c0 1.1.9 2 2 2h14c1.1 0 2-.9 2-2V5c0-1.1-.9-2-2-2zM9 17H7v-7h2v7zm4 0h-2V7h2v10zm4 0h-2v-4h2v4z\"/>\n",
              "    </g>\n",
              "</svg>\n",
              "  </button>\n",
              "\n",
              "<style>\n",
              "  .colab-df-quickchart {\n",
              "      --bg-color: #E8F0FE;\n",
              "      --fill-color: #1967D2;\n",
              "      --hover-bg-color: #E2EBFA;\n",
              "      --hover-fill-color: #174EA6;\n",
              "      --disabled-fill-color: #AAA;\n",
              "      --disabled-bg-color: #DDD;\n",
              "  }\n",
              "\n",
              "  [theme=dark] .colab-df-quickchart {\n",
              "      --bg-color: #3B4455;\n",
              "      --fill-color: #D2E3FC;\n",
              "      --hover-bg-color: #434B5C;\n",
              "      --hover-fill-color: #FFFFFF;\n",
              "      --disabled-bg-color: #3B4455;\n",
              "      --disabled-fill-color: #666;\n",
              "  }\n",
              "\n",
              "  .colab-df-quickchart {\n",
              "    background-color: var(--bg-color);\n",
              "    border: none;\n",
              "    border-radius: 50%;\n",
              "    cursor: pointer;\n",
              "    display: none;\n",
              "    fill: var(--fill-color);\n",
              "    height: 32px;\n",
              "    padding: 0;\n",
              "    width: 32px;\n",
              "  }\n",
              "\n",
              "  .colab-df-quickchart:hover {\n",
              "    background-color: var(--hover-bg-color);\n",
              "    box-shadow: 0 1px 2px rgba(60, 64, 67, 0.3), 0 1px 3px 1px rgba(60, 64, 67, 0.15);\n",
              "    fill: var(--button-hover-fill-color);\n",
              "  }\n",
              "\n",
              "  .colab-df-quickchart-complete:disabled,\n",
              "  .colab-df-quickchart-complete:disabled:hover {\n",
              "    background-color: var(--disabled-bg-color);\n",
              "    fill: var(--disabled-fill-color);\n",
              "    box-shadow: none;\n",
              "  }\n",
              "\n",
              "  .colab-df-spinner {\n",
              "    border: 2px solid var(--fill-color);\n",
              "    border-color: transparent;\n",
              "    border-bottom-color: var(--fill-color);\n",
              "    animation:\n",
              "      spin 1s steps(1) infinite;\n",
              "  }\n",
              "\n",
              "  @keyframes spin {\n",
              "    0% {\n",
              "      border-color: transparent;\n",
              "      border-bottom-color: var(--fill-color);\n",
              "      border-left-color: var(--fill-color);\n",
              "    }\n",
              "    20% {\n",
              "      border-color: transparent;\n",
              "      border-left-color: var(--fill-color);\n",
              "      border-top-color: var(--fill-color);\n",
              "    }\n",
              "    30% {\n",
              "      border-color: transparent;\n",
              "      border-left-color: var(--fill-color);\n",
              "      border-top-color: var(--fill-color);\n",
              "      border-right-color: var(--fill-color);\n",
              "    }\n",
              "    40% {\n",
              "      border-color: transparent;\n",
              "      border-right-color: var(--fill-color);\n",
              "      border-top-color: var(--fill-color);\n",
              "    }\n",
              "    60% {\n",
              "      border-color: transparent;\n",
              "      border-right-color: var(--fill-color);\n",
              "    }\n",
              "    80% {\n",
              "      border-color: transparent;\n",
              "      border-right-color: var(--fill-color);\n",
              "      border-bottom-color: var(--fill-color);\n",
              "    }\n",
              "    90% {\n",
              "      border-color: transparent;\n",
              "      border-bottom-color: var(--fill-color);\n",
              "    }\n",
              "  }\n",
              "</style>\n",
              "\n",
              "  <script>\n",
              "    async function quickchart(key) {\n",
              "      const quickchartButtonEl =\n",
              "        document.querySelector('#' + key + ' button');\n",
              "      quickchartButtonEl.disabled = true;  // To prevent multiple clicks.\n",
              "      quickchartButtonEl.classList.add('colab-df-spinner');\n",
              "      try {\n",
              "        const charts = await google.colab.kernel.invokeFunction(\n",
              "            'suggestCharts', [key], {});\n",
              "      } catch (error) {\n",
              "        console.error('Error during call to suggestCharts:', error);\n",
              "      }\n",
              "      quickchartButtonEl.classList.remove('colab-df-spinner');\n",
              "      quickchartButtonEl.classList.add('colab-df-quickchart-complete');\n",
              "    }\n",
              "    (() => {\n",
              "      let quickchartButtonEl =\n",
              "        document.querySelector('#df-7b82ef47-bb48-42d4-bb1a-146acb264a18 button');\n",
              "      quickchartButtonEl.style.display =\n",
              "        google.colab.kernel.accessAllowed ? 'block' : 'none';\n",
              "    })();\n",
              "  </script>\n",
              "</div>\n",
              "\n",
              "    </div>\n",
              "  </div>\n"
            ],
            "application/vnd.google.colaboratory.intrinsic+json": {
              "type": "dataframe",
              "variable_name": "customer_transactions",
              "summary": "{\n  \"name\": \"customer_transactions\",\n  \"rows\": 1000,\n  \"fields\": [\n    {\n      \"column\": \"CustomerID\",\n      \"properties\": {\n        \"dtype\": \"category\",\n        \"num_unique_values\": 199,\n        \"samples\": [\n          \"C0083\",\n          \"C0016\",\n          \"C0112\"\n        ],\n        \"semantic_type\": \"\",\n        \"description\": \"\"\n      }\n    },\n    {\n      \"column\": \"CustomerName\",\n      \"properties\": {\n        \"dtype\": \"category\",\n        \"num_unique_values\": 199,\n        \"samples\": [\n          \"Christina Stark\",\n          \"Emily Woods\",\n          \"Brian Adkins\"\n        ],\n        \"semantic_type\": \"\",\n        \"description\": \"\"\n      }\n    },\n    {\n      \"column\": \"Region\",\n      \"properties\": {\n        \"dtype\": \"category\",\n        \"num_unique_values\": 4,\n        \"samples\": [\n          \"Asia\",\n          \"Europe\",\n          \"South America\"\n        ],\n        \"semantic_type\": \"\",\n        \"description\": \"\"\n      }\n    },\n    {\n      \"column\": \"SignupDate\",\n      \"properties\": {\n        \"dtype\": \"object\",\n        \"num_unique_values\": 178,\n        \"samples\": [\n          \"2024-06-11\",\n          \"2024-03-22\",\n          \"2024-10-27\"\n        ],\n        \"semantic_type\": \"\",\n        \"description\": \"\"\n      }\n    },\n    {\n      \"column\": \"TransactionID\",\n      \"properties\": {\n        \"dtype\": \"string\",\n        \"num_unique_values\": 1000,\n        \"samples\": [\n          \"T00132\",\n          \"T00652\",\n          \"T00598\"\n        ],\n        \"semantic_type\": \"\",\n        \"description\": \"\"\n      }\n    },\n    {\n      \"column\": \"ProductID\",\n      \"properties\": {\n        \"dtype\": \"category\",\n        \"num_unique_values\": 100,\n        \"samples\": [\n          \"P009\",\n          \"P056\",\n          \"P058\"\n        ],\n        \"semantic_type\": \"\",\n        \"description\": \"\"\n      }\n    },\n    {\n      \"column\": \"TransactionDate\",\n      \"properties\": {\n        \"dtype\": \"object\",\n        \"num_unique_values\": 1000,\n        \"samples\": [\n          \"2024-09-03 19:50:06\",\n          \"2024-04-27 01:00:06\",\n          \"2024-05-24 09:32:01\"\n        ],\n        \"semantic_type\": \"\",\n        \"description\": \"\"\n      }\n    },\n    {\n      \"column\": \"Quantity\",\n      \"properties\": {\n        \"dtype\": \"number\",\n        \"std\": 1,\n        \"min\": 1,\n        \"max\": 4,\n        \"num_unique_values\": 4,\n        \"samples\": [\n          3,\n          1,\n          2\n        ],\n        \"semantic_type\": \"\",\n        \"description\": \"\"\n      }\n    },\n    {\n      \"column\": \"TotalValue\",\n      \"properties\": {\n        \"dtype\": \"number\",\n        \"std\": 493.1444775479314,\n        \"min\": 16.08,\n        \"max\": 1991.04,\n        \"num_unique_values\": 369,\n        \"samples\": [\n          127.36,\n          447.23,\n          441.66\n        ],\n        \"semantic_type\": \"\",\n        \"description\": \"\"\n      }\n    },\n    {\n      \"column\": \"Price_x\",\n      \"properties\": {\n        \"dtype\": \"number\",\n        \"std\": 140.73638962578218,\n        \"min\": 16.08,\n        \"max\": 497.76,\n        \"num_unique_values\": 100,\n        \"samples\": [\n          325.01,\n          16.08,\n          157.62\n        ],\n        \"semantic_type\": \"\",\n        \"description\": \"\"\n      }\n    },\n    {\n      \"column\": \"ProductName\",\n      \"properties\": {\n        \"dtype\": \"category\",\n        \"num_unique_values\": 66,\n        \"samples\": [\n          \"BookWorld Running Shoes\",\n          \"SoundWave Laptop\",\n          \"SoundWave Cookbook\"\n        ],\n        \"semantic_type\": \"\",\n        \"description\": \"\"\n      }\n    },\n    {\n      \"column\": \"Category\",\n      \"properties\": {\n        \"dtype\": \"category\",\n        \"num_unique_values\": 4,\n        \"samples\": [\n          \"Home Decor\",\n          \"Clothing\",\n          \"Books\"\n        ],\n        \"semantic_type\": \"\",\n        \"description\": \"\"\n      }\n    },\n    {\n      \"column\": \"Price_y\",\n      \"properties\": {\n        \"dtype\": \"number\",\n        \"std\": 140.73638962578218,\n        \"min\": 16.08,\n        \"max\": 497.76,\n        \"num_unique_values\": 100,\n        \"samples\": [\n          325.01,\n          16.08,\n          157.62\n        ],\n        \"semantic_type\": \"\",\n        \"description\": \"\"\n      }\n    }\n  ]\n}"
            }
          },
          "metadata": {},
          "execution_count": 18
        }
      ]
    },
    {
      "cell_type": "markdown",
      "source": [
        "## Calculating Customer Spending Metrics by Region"
      ],
      "metadata": {
        "id": "q0WF8BGcKUgF"
      }
    },
    {
      "cell_type": "code",
      "source": [
        "customer_transactions['TotalSpending'] = customer_transactions['Quantity'] * customer_transactions['Price_y']\n",
        "customer_features = customer_transactions.groupby(['CustomerID', 'Region']).agg(\n",
        "    TotalSpending=('TotalSpending', 'sum'),\n",
        "    Frequency=('TransactionID', 'count'),\n",
        "    AvgTransactionValue=('TotalValue', 'mean'),\n",
        ").reset_index()\n",
        "\n",
        "print(customer_features.columns)"
      ],
      "metadata": {
        "colab": {
          "base_uri": "https://localhost:8080/"
        },
        "id": "3rH-n9KXHuJv",
        "outputId": "fb374723-9cdc-4410-fc66-d393184ad625"
      },
      "execution_count": 37,
      "outputs": [
        {
          "output_type": "stream",
          "name": "stdout",
          "text": [
            "Index(['CustomerID', 'Region', 'TotalSpending', 'Frequency',\n",
            "       'AvgTransactionValue'],\n",
            "      dtype='object')\n"
          ]
        }
      ]
    },
    {
      "cell_type": "markdown",
      "source": [
        "## Preparing Data for Customer Segmentation"
      ],
      "metadata": {
        "id": "gG3h7guJK4nW"
      }
    },
    {
      "cell_type": "code",
      "source": [
        "numerical_features = customer_features.select_dtypes(include=['number'])\n",
        "\n",
        "scaler = StandardScaler()\n",
        "scaled_features = scaler.fit_transform(numerical_features)"
      ],
      "metadata": {
        "id": "SRnSarjzH3qS"
      },
      "execution_count": 38,
      "outputs": []
    },
    {
      "cell_type": "code",
      "source": [
        "scaled_features_df = pd.DataFrame(scaled_features, columns=numerical_features.columns, index=numerical_features.index)\n",
        "final_customer_features = pd.concat([customer_features['CustomerID'], scaled_features_df], axis=1)"
      ],
      "metadata": {
        "id": "bZ0cK9ekH8pk"
      },
      "execution_count": 39,
      "outputs": []
    },
    {
      "cell_type": "markdown",
      "source": [
        "## Customer Segmentation using K-Means"
      ],
      "metadata": {
        "id": "JSYaARqFLfAt"
      }
    },
    {
      "cell_type": "code",
      "source": [
        "n_clusters = 5\n",
        "kmeans = KMeans(n_clusters=n_clusters, random_state=42)\n",
        "cluster_labels = kmeans.fit_predict(scaled_features)\n",
        "customer_features['Cluster'] = cluster_labels\n",
        "\n",
        "db_index = davies_bouldin_score(scaled_features, cluster_labels)\n",
        "silhouette_avg = silhouette_score(scaled_features, cluster_labels)\n",
        "\n",
        "print(f\"Davies-Bouldin Index: {db_index}\")\n",
        "print(f\"Silhouette Score: {silhouette_avg}\")"
      ],
      "metadata": {
        "colab": {
          "base_uri": "https://localhost:8080/"
        },
        "id": "ub4rc2bjIbgs",
        "outputId": "13bb4afa-e396-4af5-df66-05081f32a13b"
      },
      "execution_count": 42,
      "outputs": [
        {
          "output_type": "stream",
          "name": "stdout",
          "text": [
            "Davies-Bouldin Index: 0.8524813520458038\n",
            "Silhouette Score: 0.3535127066812944\n"
          ]
        }
      ]
    },
    {
      "cell_type": "markdown",
      "source": [
        "## Visualizing Customer Segments"
      ],
      "metadata": {
        "id": "cAe4oNo5LpgD"
      }
    },
    {
      "cell_type": "code",
      "source": [
        "sns.scatterplot(x='TotalSpending', y='Frequency', hue='Cluster', data=customer_features, palette='viridis')\n",
        "plt.title('Customer Segmentation - Scatter Plot')\n",
        "plt.show()"
      ],
      "metadata": {
        "colab": {
          "base_uri": "https://localhost:8080/",
          "height": 472
        },
        "id": "2MkP1n7BInnw",
        "outputId": "7532a09c-2e31-4c60-9934-12561f3db282"
      },
      "execution_count": 43,
      "outputs": [
        {
          "output_type": "display_data",
          "data": {
            "text/plain": [
              "<Figure size 640x480 with 1 Axes>"
            ],
            "image/png": "[encoded data removed]"
          },
          "metadata": {}
        }
      ]
    },
    {
      "cell_type": "code",
      "source": [
        "plt.figure(figsize=(12, 6))\n",
        "for i, feature in enumerate(features):\n",
        "    plt.subplot(1, len(features), i + 1)\n",
        "    sns.boxplot(x='Cluster', y=feature, data=customer_features, palette='viridis')\n",
        "    plt.title(f'{feature} Distribution')\n",
        "plt.tight_layout()\n",
        "plt.show()"
      ],
      "metadata": {
        "colab": {
          "base_uri": "https://localhost:8080/",
          "height": 723
        },
        "id": "JDXYHliCIuwy",
        "outputId": "a2c39ca0-adf5-48c0-823f-7c15bd4cfcf5"
      },
      "execution_count": 45,
      "outputs": [
        {
          "output_type": "stream",
          "name": "stderr",
          "text": [
            "<ipython-input-45-c0c4578ca180>:4: FutureWarning: \n",
            "\n",
            "Passing `palette` without assigning `hue` is deprecated and will be removed in v0.14.0. Assign the `x` variable to `hue` and set `legend=False` for the same effect.\n",
            "\n",
            "  sns.boxplot(x='Cluster', y=feature, data=customer_features, palette='viridis')\n",
            "<ipython-input-45-c0c4578ca180>:4: FutureWarning: \n",
            "\n",
            "Passing `palette` without assigning `hue` is deprecated and will be removed in v0.14.0. Assign the `x` variable to `hue` and set `legend=False` for the same effect.\n",
            "\n",
            "  sns.boxplot(x='Cluster', y=feature, data=customer_features, palette='viridis')\n",
            "<ipython-input-45-c0c4578ca180>:4: FutureWarning: \n",
            "\n",
            "Passing `palette` without assigning `hue` is deprecated and will be removed in v0.14.0. Assign the `x` variable to `hue` and set `legend=False` for the same effect.\n",
            "\n",
            "  sns.boxplot(x='Cluster', y=feature, data=customer_features, palette='viridis')\n"
          ]
        },
        {
          "output_type": "display_data",
          "data": {
            "text/plain": [
              "<Figure size 1200x600 with 3 Axes>"
            ],
            "image/png": "[encoded data removed]"
          },
          "metadata": {}
        }
      ]
    },
    {
      "cell_type": "code",
      "source": [],
      "metadata": {
        "id": "ngALTGRcHfvk"
      },
      "execution_count": null,
      "outputs": []
    }
  ]
}